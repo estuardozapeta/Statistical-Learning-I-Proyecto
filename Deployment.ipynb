{
 "cells": [
  {
   "cell_type": "markdown",
   "metadata": {},
   "source": [
    "### Deployment de Modelos\n",
    "\n",
    "#### Paquetes a utilizar"
   ]
  },
  {
   "cell_type": "code",
   "execution_count": 345,
   "metadata": {},
   "outputs": [],
   "source": [
    "import numpy as np\n",
    "import pandas as pd\n",
    "from joblib import load\n",
    "from sklearn.metrics import accuracy_score\n",
    "from sklearn.metrics import mean_squared_error\n",
    "from sklearn.metrics import precision_score\n",
    "from sklearn.metrics import recall_score\n",
    "from sklearn.metrics import f1_score\n",
    "from sklearn import tree\n",
    "from scipy.stats import norm\n",
    "import math"
   ]
  },
  {
   "cell_type": "markdown",
   "metadata": {},
   "source": [
    "### Importar modelos\n",
    "\n",
    "#### Modelo Árbol de Decisión"
   ]
  },
  {
   "cell_type": "code",
   "execution_count": null,
   "metadata": {},
   "outputs": [],
   "source": [
    "tree_model = load('modelos/decisionTreeLog_varFare_varSex_varClass_20200629_102647.joblib') "
   ]
  },
  {
   "cell_type": "markdown",
   "metadata": {},
   "source": [
    "#### Modelo SVM"
   ]
  },
  {
   "cell_type": "code",
   "execution_count": null,
   "metadata": {},
   "outputs": [],
   "source": [
    "svm_model = load('modelos/svmLog_varSex_varClass_20200629_102954.joblib') "
   ]
  },
  {
   "cell_type": "markdown",
   "metadata": {},
   "source": [
    "#### Modelo Naive Bayes"
   ]
  },
  {
   "cell_type": "code",
   "execution_count": null,
   "metadata": {},
   "outputs": [],
   "source": [
    "mean = pd.read_csv('modelos/naiveBayesLog_varFare_varSex_varClass_20200629_104516/mean.csv')\n",
    "stdev = pd.read_csv('modelos/naiveBayesLog_varFare_varSex_varClass_20200629_104516/stdev.csv')\n",
    "probabilities = pd.read_csv('modelos/naiveBayesLog_varFare_varSex_varClass_20200629_104516/probabilities.csv')\n",
    "y_class = pd.read_csv('modelos/naiveBayesLog_varFare_varSex_varClass_20200629_104516/class.csv')\n",
    "\n",
    "bayes_model = {\"mean\":mean, \"stdev\":stdev, \"probabilities\":probabilities, \"class\":y_class}"
   ]
  },
  {
   "cell_type": "markdown",
   "metadata": {},
   "source": [
    "#### Modelo Regresión Logística"
   ]
  },
  {
   "cell_type": "code",
   "execution_count": 312,
   "metadata": {},
   "outputs": [],
   "source": [
    "reg_logistic_model = pd.read_csv('modelos/regLogisticLog_lr=0.0001_reg=0.01_bath_size=20_varSex_varClass_20200629_101316.csv')"
   ]
  },
  {
   "cell_type": "markdown",
   "metadata": {},
   "source": [
    "#### Carga de datos de prueba"
   ]
  },
  {
   "cell_type": "code",
   "execution_count": 334,
   "metadata": {},
   "outputs": [],
   "source": [
    "x_test = pd.read_csv('x_test.csv')\n",
    "y_test = pd.read_csv('y_test.csv')"
   ]
  },
  {
   "cell_type": "markdown",
   "metadata": {},
   "source": [
    "#### Funciones anexas para predecir los modelos de Naive Bayes y Regresión Logística"
   ]
  },
  {
   "cell_type": "code",
   "execution_count": null,
   "metadata": {},
   "outputs": [],
   "source": [
    "def get_argmax(probability):\n",
    "    max_value = 0\n",
    "    argmax = -1\n",
    "    for (key, value) in probability.items():\n",
    "        if (key == 0):\n",
    "            max_value = max(value)\n",
    "            argmax = key\n",
    "        else:\n",
    "            tmp = max(value)\n",
    "            if(max_value < tmp):\n",
    "                max_value = tmp\n",
    "                argmax = key\n",
    "    return argmax"
   ]
  },
  {
   "cell_type": "code",
   "execution_count": 182,
   "metadata": {},
   "outputs": [],
   "source": [
    "def predict_naive_bayes(model, x_test):\n",
    "    y_predict = []\n",
    "    for i in range(x_test.shape[0]):\n",
    "        probability={}\n",
    "        for y_class in model[\"class\"].values:\n",
    "            y_class = int(y_class)\n",
    "            probability[y_class] = model[\"probabilities\"].iloc[y_class][0]\n",
    "            for index, _ in enumerate(x_test.iloc[i]):\n",
    "                probability[y_class] *= norm.pdf(x_test.iloc[i], model[\"mean\"].iloc[y_class, index], model[\"stdev\"].iloc[y_class, index])\n",
    "        y_predict.append(get_argmax(probability))\n",
    "    return np.array(y_predict)"
   ]
  },
  {
   "cell_type": "code",
   "execution_count": 156,
   "metadata": {},
   "outputs": [],
   "source": [
    "def sigmoid(x):\n",
    "    return 1 / (1 + math.exp(-x))"
   ]
  },
  {
   "cell_type": "code",
   "execution_count": 183,
   "metadata": {},
   "outputs": [],
   "source": [
    "def predict_reg_logistic(model, x_test_):\n",
    "    y_predict = []\n",
    "    for feature in x_test_.values:\n",
    "        value = 0\n",
    "        for i in range(len(feature)):\n",
    "            value += feature[i] * model[i][0]\n",
    "        value_sigmoid = sigmoid(value)\n",
    "        if value_sigmoid >= 0.5:\n",
    "            y_predict.append(1)\n",
    "        else:\n",
    "            y_predict.append(0)\n",
    "    return np.array(y_predict)"
   ]
  },
  {
   "cell_type": "markdown",
   "metadata": {},
   "source": [
    "#### Función para cálculo de métricas"
   ]
  },
  {
   "cell_type": "code",
   "execution_count": 304,
   "metadata": {},
   "outputs": [],
   "source": [
    "def get_metrics(y_true, y_predict):\n",
    "    accuracy = accuracy_score(y_true, y_predict)\n",
    "    error = mean_squared_error(y_true, y_predict)\n",
    "    precision = precision_score(y_true, y_predict, average='weighted')\n",
    "    recall = recall_score(y_true, y_predict, average='weighted')\n",
    "    f1 = f1_score(y_true, y_predict, average=\"weighted\")\n",
    "    \n",
    "    return np.array([accuracy, error, precision, recall, f1])"
   ]
  },
  {
   "cell_type": "markdown",
   "metadata": {},
   "source": [
    "#### Función para determinar la moda de un conjunto de datos"
   ]
  },
  {
   "cell_type": "code",
   "execution_count": 265,
   "metadata": {},
   "outputs": [],
   "source": [
    "def moda(data):\n",
    "    repetitions = 0\n",
    "    moda = -1\n",
    "    for i in data:\n",
    "        n = data.count(i)\n",
    "        if n > repetitions:\n",
    "            repetitions = n\n",
    "    for i in data:\n",
    "        n = data.count(i)\n",
    "        if n == repetitions and moda == -1:\n",
    "            moda = i     \n",
    "    return moda"
   ]
  },
  {
   "cell_type": "markdown",
   "metadata": {},
   "source": [
    "#### Función para obtener predición final en base a la moda de las predicciones individuales"
   ]
  },
  {
   "cell_type": "code",
   "execution_count": 285,
   "metadata": {},
   "outputs": [],
   "source": [
    "def get_final_prediction(prediction_joined):\n",
    "    moda_prediction = []\n",
    "    for predict in prediction_joined:\n",
    "        moda_predict = moda(list(predict))\n",
    "        moda_prediction.append(moda_predict)\n",
    "    return np.array(moda_prediction)"
   ]
  },
  {
   "cell_type": "markdown",
   "metadata": {},
   "source": [
    "Debido a que el modelo generado con SVM y Regresión Logística se hizo en base a dos variables, se debe eliminar del set de datos la característica \"Fare\""
   ]
  },
  {
   "cell_type": "code",
   "execution_count": 335,
   "metadata": {},
   "outputs": [],
   "source": [
    "x_test_ = x_test.drop(['Fare'], axis=1)"
   ]
  },
  {
   "cell_type": "markdown",
   "metadata": {},
   "source": [
    "#### Predición con el Modelo Árbol de Decisión"
   ]
  },
  {
   "cell_type": "code",
   "execution_count": 336,
   "metadata": {},
   "outputs": [],
   "source": [
    "y_predict_tree = tree_model.predict(x_test)"
   ]
  },
  {
   "cell_type": "markdown",
   "metadata": {},
   "source": [
    "#### Predición con el Modelo SVM\n"
   ]
  },
  {
   "cell_type": "code",
   "execution_count": 337,
   "metadata": {},
   "outputs": [],
   "source": [
    "y_predict_svm = svm_model.predict(x_test_)"
   ]
  },
  {
   "cell_type": "markdown",
   "metadata": {},
   "source": [
    "#### Predición con el Modelo Naive Bayes"
   ]
  },
  {
   "cell_type": "code",
   "execution_count": 338,
   "metadata": {},
   "outputs": [],
   "source": [
    "y_predict_bayes = predict_naive_bayes(bayes_model, x_test)"
   ]
  },
  {
   "cell_type": "markdown",
   "metadata": {},
   "source": [
    "#### Predición con el Modelo Regresión Logística"
   ]
  },
  {
   "cell_type": "code",
   "execution_count": 339,
   "metadata": {},
   "outputs": [],
   "source": [
    "y_predict_reg_log = predict_reg_logistic(reg_logistic_model.values, x_test_)"
   ]
  },
  {
   "cell_type": "markdown",
   "metadata": {},
   "source": [
    "#### Combinación de predicciones"
   ]
  },
  {
   "cell_type": "code",
   "execution_count": 340,
   "metadata": {},
   "outputs": [],
   "source": [
    "y_predict_joined = np.stack((y_predict_tree, y_predict_svm, y_predict_bayes, y_predict_reg_log), axis=-1)"
   ]
  },
  {
   "cell_type": "markdown",
   "metadata": {},
   "source": [
    "#### Obteniendo predicción en función de la moda"
   ]
  },
  {
   "cell_type": "code",
   "execution_count": 341,
   "metadata": {},
   "outputs": [],
   "source": [
    "y_moda_predicted = get_final_prediction(y_predict_joined)"
   ]
  },
  {
   "cell_type": "markdown",
   "metadata": {},
   "source": [
    "#### Tabla de Predicciones"
   ]
  },
  {
   "cell_type": "code",
   "execution_count": 342,
   "metadata": {},
   "outputs": [
    {
     "data": {
      "text/html": [
       "<div>\n",
       "<style scoped>\n",
       "    .dataframe tbody tr th:only-of-type {\n",
       "        vertical-align: middle;\n",
       "    }\n",
       "\n",
       "    .dataframe tbody tr th {\n",
       "        vertical-align: top;\n",
       "    }\n",
       "\n",
       "    .dataframe thead th {\n",
       "        text-align: right;\n",
       "    }\n",
       "</style>\n",
       "<table border=\"1\" class=\"dataframe\">\n",
       "  <thead>\n",
       "    <tr style=\"text-align: right;\">\n",
       "      <th></th>\n",
       "      <th>Decision Tree</th>\n",
       "      <th>SVM</th>\n",
       "      <th>Bayes</th>\n",
       "      <th>Reg. Log.</th>\n",
       "      <th>Moda Predict</th>\n",
       "    </tr>\n",
       "  </thead>\n",
       "  <tbody>\n",
       "    <tr>\n",
       "      <td>0</td>\n",
       "      <td>0</td>\n",
       "      <td>1</td>\n",
       "      <td>1</td>\n",
       "      <td>1</td>\n",
       "      <td>1</td>\n",
       "    </tr>\n",
       "    <tr>\n",
       "      <td>1</td>\n",
       "      <td>1</td>\n",
       "      <td>1</td>\n",
       "      <td>1</td>\n",
       "      <td>1</td>\n",
       "      <td>1</td>\n",
       "    </tr>\n",
       "    <tr>\n",
       "      <td>2</td>\n",
       "      <td>0</td>\n",
       "      <td>0</td>\n",
       "      <td>0</td>\n",
       "      <td>0</td>\n",
       "      <td>0</td>\n",
       "    </tr>\n",
       "    <tr>\n",
       "      <td>3</td>\n",
       "      <td>0</td>\n",
       "      <td>0</td>\n",
       "      <td>0</td>\n",
       "      <td>0</td>\n",
       "      <td>0</td>\n",
       "    </tr>\n",
       "    <tr>\n",
       "      <td>4</td>\n",
       "      <td>1</td>\n",
       "      <td>1</td>\n",
       "      <td>0</td>\n",
       "      <td>1</td>\n",
       "      <td>1</td>\n",
       "    </tr>\n",
       "    <tr>\n",
       "      <td>...</td>\n",
       "      <td>...</td>\n",
       "      <td>...</td>\n",
       "      <td>...</td>\n",
       "      <td>...</td>\n",
       "      <td>...</td>\n",
       "    </tr>\n",
       "    <tr>\n",
       "      <td>352</td>\n",
       "      <td>1</td>\n",
       "      <td>1</td>\n",
       "      <td>1</td>\n",
       "      <td>1</td>\n",
       "      <td>1</td>\n",
       "    </tr>\n",
       "    <tr>\n",
       "      <td>353</td>\n",
       "      <td>0</td>\n",
       "      <td>0</td>\n",
       "      <td>0</td>\n",
       "      <td>0</td>\n",
       "      <td>0</td>\n",
       "    </tr>\n",
       "    <tr>\n",
       "      <td>354</td>\n",
       "      <td>0</td>\n",
       "      <td>0</td>\n",
       "      <td>0</td>\n",
       "      <td>0</td>\n",
       "      <td>0</td>\n",
       "    </tr>\n",
       "    <tr>\n",
       "      <td>355</td>\n",
       "      <td>1</td>\n",
       "      <td>1</td>\n",
       "      <td>0</td>\n",
       "      <td>1</td>\n",
       "      <td>1</td>\n",
       "    </tr>\n",
       "    <tr>\n",
       "      <td>356</td>\n",
       "      <td>0</td>\n",
       "      <td>0</td>\n",
       "      <td>0</td>\n",
       "      <td>0</td>\n",
       "      <td>0</td>\n",
       "    </tr>\n",
       "  </tbody>\n",
       "</table>\n",
       "<p>357 rows × 5 columns</p>\n",
       "</div>"
      ],
      "text/plain": [
       "     Decision Tree  SVM  Bayes  Reg. Log.  Moda Predict\n",
       "0                0    1      1          1             1\n",
       "1                1    1      1          1             1\n",
       "2                0    0      0          0             0\n",
       "3                0    0      0          0             0\n",
       "4                1    1      0          1             1\n",
       "..             ...  ...    ...        ...           ...\n",
       "352              1    1      1          1             1\n",
       "353              0    0      0          0             0\n",
       "354              0    0      0          0             0\n",
       "355              1    1      0          1             1\n",
       "356              0    0      0          0             0\n",
       "\n",
       "[357 rows x 5 columns]"
      ]
     },
     "execution_count": 342,
     "metadata": {},
     "output_type": "execute_result"
    }
   ],
   "source": [
    "y_prediction_summary = np.stack((y_predict_tree, y_predict_svm, y_predict_bayes, y_predict_reg_log, y_moda_predicted), axis=-1)\n",
    "df_predictions = pd.DataFrame(y_prediction_summary, columns = [\"Decision Tree\",\"SVM\",\"Bayes\",\"Reg. Log.\",\"Moda Predict\"])\n",
    "df_predictions"
   ]
  },
  {
   "cell_type": "markdown",
   "metadata": {},
   "source": [
    "#### Cálculo de Métricas"
   ]
  },
  {
   "cell_type": "code",
   "execution_count": 343,
   "metadata": {},
   "outputs": [],
   "source": [
    "metrics_tree = get_metrics(y_test, y_predict_tree)\n",
    "metrics_svm = get_metrics(y_test, y_predict_svm)\n",
    "metrics_bayes = get_metrics(y_test, y_predict_bayes)\n",
    "metrics_reg_log = get_metrics(y_test, y_predict_reg_log)\n",
    "metrics_moda_predicted = get_metrics(y_test, y_moda_predicted)\n",
    "metrics_joined = np.stack((metrics_tree, metrics_svm, metrics_bayes, metrics_reg_log, metrics_moda_predicted), axis=-1)"
   ]
  },
  {
   "cell_type": "markdown",
   "metadata": {},
   "source": [
    "#### Tabla de Métricas"
   ]
  },
  {
   "cell_type": "code",
   "execution_count": 344,
   "metadata": {},
   "outputs": [
    {
     "data": {
      "text/html": [
       "<div>\n",
       "<style scoped>\n",
       "    .dataframe tbody tr th:only-of-type {\n",
       "        vertical-align: middle;\n",
       "    }\n",
       "\n",
       "    .dataframe tbody tr th {\n",
       "        vertical-align: top;\n",
       "    }\n",
       "\n",
       "    .dataframe thead th {\n",
       "        text-align: right;\n",
       "    }\n",
       "</style>\n",
       "<table border=\"1\" class=\"dataframe\">\n",
       "  <thead>\n",
       "    <tr style=\"text-align: right;\">\n",
       "      <th></th>\n",
       "      <th>Decision Tree</th>\n",
       "      <th>SVM</th>\n",
       "      <th>Bayes</th>\n",
       "      <th>Reg. Log.</th>\n",
       "      <th>Moda Predict</th>\n",
       "    </tr>\n",
       "  </thead>\n",
       "  <tbody>\n",
       "    <tr>\n",
       "      <td>Accuracy</td>\n",
       "      <td>0.865546</td>\n",
       "      <td>0.770308</td>\n",
       "      <td>0.705882</td>\n",
       "      <td>0.770308</td>\n",
       "      <td>0.773109</td>\n",
       "    </tr>\n",
       "    <tr>\n",
       "      <td>Error</td>\n",
       "      <td>0.134454</td>\n",
       "      <td>0.229692</td>\n",
       "      <td>0.294118</td>\n",
       "      <td>0.229692</td>\n",
       "      <td>0.226891</td>\n",
       "    </tr>\n",
       "    <tr>\n",
       "      <td>Precision</td>\n",
       "      <td>0.864577</td>\n",
       "      <td>0.769567</td>\n",
       "      <td>0.695896</td>\n",
       "      <td>0.769567</td>\n",
       "      <td>0.772036</td>\n",
       "    </tr>\n",
       "    <tr>\n",
       "      <td>Recall</td>\n",
       "      <td>0.865546</td>\n",
       "      <td>0.770308</td>\n",
       "      <td>0.705882</td>\n",
       "      <td>0.770308</td>\n",
       "      <td>0.773109</td>\n",
       "    </tr>\n",
       "    <tr>\n",
       "      <td>F1</td>\n",
       "      <td>0.863991</td>\n",
       "      <td>0.769912</td>\n",
       "      <td>0.695160</td>\n",
       "      <td>0.769912</td>\n",
       "      <td>0.772516</td>\n",
       "    </tr>\n",
       "  </tbody>\n",
       "</table>\n",
       "</div>"
      ],
      "text/plain": [
       "           Decision Tree       SVM     Bayes  Reg. Log.  Moda Predict\n",
       "Accuracy        0.865546  0.770308  0.705882   0.770308      0.773109\n",
       "Error           0.134454  0.229692  0.294118   0.229692      0.226891\n",
       "Precision       0.864577  0.769567  0.695896   0.769567      0.772036\n",
       "Recall          0.865546  0.770308  0.705882   0.770308      0.773109\n",
       "F1              0.863991  0.769912  0.695160   0.769912      0.772516"
      ]
     },
     "execution_count": 344,
     "metadata": {},
     "output_type": "execute_result"
    }
   ],
   "source": [
    "df_metrics = pd.DataFrame(metrics_joined, index = [\"Accuracy\",\"Error\",\"Precision\",\"Recall\",\"F1\"], \n",
    "                          columns = [\"Decision Tree\",\"SVM\",\"Bayes\",\"Reg. Log.\",\"Moda Predict\"])\n",
    "df_metrics"
   ]
  },
  {
   "cell_type": "markdown",
   "metadata": {},
   "source": [
    "#### Definición de función para construir grafo del modelo Decision Tree"
   ]
  },
  {
   "cell_type": "code",
   "execution_count": 406,
   "metadata": {},
   "outputs": [],
   "source": [
    "def create_graph(x,y):\n",
    "    model = tree.DecisionTreeClassifier()\n",
    "    model = model.fit(x, y)\n",
    "    data_graph = tree.export_graphviz(model, out_file=None,\n",
    "                                      class_names=[\"No sobrevive\",\"Sobrevive\"],\n",
    "                                      filled=True, rounded=True,\n",
    "                                      special_characters=True)  \n",
    "    graph = graphviz.Source(data_graph)\n",
    "    return graph    "
   ]
  },
  {
   "cell_type": "markdown",
   "metadata": {},
   "source": [
    "#### Construcción del grafo con una muestra de 30 registros"
   ]
  },
  {
   "cell_type": "code",
   "execution_count": 407,
   "metadata": {},
   "outputs": [
    {
     "data": {
      "image/svg+xml": [
       "<?xml version=\"1.0\" encoding=\"UTF-8\" standalone=\"no\"?>\r\n",
       "<!DOCTYPE svg PUBLIC \"-//W3C//DTD SVG 1.1//EN\"\r\n",
       " \"http://www.w3.org/Graphics/SVG/1.1/DTD/svg11.dtd\">\r\n",
       "<!-- Generated by graphviz version 2.38.0 (20140413.2041)\r\n",
       " -->\r\n",
       "<!-- Title: Tree Pages: 1 -->\r\n",
       "<svg width=\"387pt\" height=\"532pt\"\r\n",
       " viewBox=\"0.00 0.00 387.00 532.00\" xmlns=\"http://www.w3.org/2000/svg\" xmlns:xlink=\"http://www.w3.org/1999/xlink\">\r\n",
       "<g id=\"graph0\" class=\"graph\" transform=\"scale(1 1) rotate(0) translate(4 528)\">\r\n",
       "<title>Tree</title>\r\n",
       "<polygon fill=\"white\" stroke=\"none\" points=\"-4,4 -4,-528 383,-528 383,4 -4,4\"/>\r\n",
       "<!-- 0 -->\r\n",
       "<g id=\"node1\" class=\"node\"><title>0</title>\r\n",
       "<path fill=\"#e6f3fc\" stroke=\"black\" d=\"M278,-524C278,-524 173,-524 173,-524 167,-524 161,-518 161,-512 161,-512 161,-458 161,-458 161,-452 167,-446 173,-446 173,-446 278,-446 278,-446 284,-446 290,-452 290,-458 290,-458 290,-512 290,-512 290,-518 284,-524 278,-524\"/>\r\n",
       "<text text-anchor=\"start\" x=\"199\" y=\"-509.8\" font-family=\"Helvetica,sans-Serif\" font-size=\"14.00\">X</text>\r\n",
       "<text text-anchor=\"start\" x=\"209\" y=\"-509.8\" font-family=\"Helvetica,sans-Serif\" baseline-shift=\"sub\" font-size=\"14.00\">1</text>\r\n",
       "<text text-anchor=\"start\" x=\"216\" y=\"-509.8\" font-family=\"Helvetica,sans-Serif\" font-size=\"14.00\"> ≤ 0.5</text>\r\n",
       "<text text-anchor=\"start\" x=\"188\" y=\"-495.8\" font-family=\"Helvetica,sans-Serif\" font-size=\"14.00\">gini = 0.498</text>\r\n",
       "<text text-anchor=\"start\" x=\"182\" y=\"-481.8\" font-family=\"Helvetica,sans-Serif\" font-size=\"14.00\">samples = 30</text>\r\n",
       "<text text-anchor=\"start\" x=\"177\" y=\"-467.8\" font-family=\"Helvetica,sans-Serif\" font-size=\"14.00\">value = [14, 16]</text>\r\n",
       "<text text-anchor=\"start\" x=\"169\" y=\"-453.8\" font-family=\"Helvetica,sans-Serif\" font-size=\"14.00\">class = Sobrevive</text>\r\n",
       "</g>\r\n",
       "<!-- 1 -->\r\n",
       "<g id=\"node2\" class=\"node\"><title>1</title>\r\n",
       "<path fill=\"#45a3e7\" stroke=\"black\" d=\"M200,-410C200,-410 95,-410 95,-410 89,-410 83,-404 83,-398 83,-398 83,-344 83,-344 83,-338 89,-332 95,-332 95,-332 200,-332 200,-332 206,-332 212,-338 212,-344 212,-344 212,-398 212,-398 212,-404 206,-410 200,-410\"/>\r\n",
       "<text text-anchor=\"start\" x=\"121\" y=\"-395.8\" font-family=\"Helvetica,sans-Serif\" font-size=\"14.00\">X</text>\r\n",
       "<text text-anchor=\"start\" x=\"131\" y=\"-395.8\" font-family=\"Helvetica,sans-Serif\" baseline-shift=\"sub\" font-size=\"14.00\">2</text>\r\n",
       "<text text-anchor=\"start\" x=\"138\" y=\"-395.8\" font-family=\"Helvetica,sans-Serif\" font-size=\"14.00\"> ≤ 0.5</text>\r\n",
       "<text text-anchor=\"start\" x=\"110\" y=\"-381.8\" font-family=\"Helvetica,sans-Serif\" font-size=\"14.00\">gini = 0.111</text>\r\n",
       "<text text-anchor=\"start\" x=\"104\" y=\"-367.8\" font-family=\"Helvetica,sans-Serif\" font-size=\"14.00\">samples = 17</text>\r\n",
       "<text text-anchor=\"start\" x=\"103\" y=\"-353.8\" font-family=\"Helvetica,sans-Serif\" font-size=\"14.00\">value = [1, 16]</text>\r\n",
       "<text text-anchor=\"start\" x=\"91\" y=\"-339.8\" font-family=\"Helvetica,sans-Serif\" font-size=\"14.00\">class = Sobrevive</text>\r\n",
       "</g>\r\n",
       "<!-- 0&#45;&gt;1 -->\r\n",
       "<g id=\"edge1\" class=\"edge\"><title>0&#45;&gt;1</title>\r\n",
       "<path fill=\"none\" stroke=\"black\" d=\"M198.875,-445.769C192.725,-436.939 186.118,-427.451 179.757,-418.318\"/>\r\n",
       "<polygon fill=\"black\" stroke=\"black\" points=\"182.592,-416.264 174.005,-410.058 176.848,-420.265 182.592,-416.264\"/>\r\n",
       "<text text-anchor=\"middle\" x=\"169.601\" y=\"-430.968\" font-family=\"Helvetica,sans-Serif\" font-size=\"14.00\">True</text>\r\n",
       "</g>\r\n",
       "<!-- 8 -->\r\n",
       "<g id=\"node9\" class=\"node\"><title>8</title>\r\n",
       "<path fill=\"#e58139\" stroke=\"black\" d=\"M367,-405C367,-405 242,-405 242,-405 236,-405 230,-399 230,-393 230,-393 230,-349 230,-349 230,-343 236,-337 242,-337 242,-337 367,-337 367,-337 373,-337 379,-343 379,-349 379,-349 379,-393 379,-393 379,-399 373,-405 367,-405\"/>\r\n",
       "<text text-anchor=\"start\" x=\"275.5\" y=\"-389.8\" font-family=\"Helvetica,sans-Serif\" font-size=\"14.00\">gini = 0.0</text>\r\n",
       "<text text-anchor=\"start\" x=\"261\" y=\"-374.8\" font-family=\"Helvetica,sans-Serif\" font-size=\"14.00\">samples = 13</text>\r\n",
       "<text text-anchor=\"start\" x=\"260\" y=\"-359.8\" font-family=\"Helvetica,sans-Serif\" font-size=\"14.00\">value = [13, 0]</text>\r\n",
       "<text text-anchor=\"start\" x=\"238\" y=\"-344.8\" font-family=\"Helvetica,sans-Serif\" font-size=\"14.00\">class = No sobrevive</text>\r\n",
       "</g>\r\n",
       "<!-- 0&#45;&gt;8 -->\r\n",
       "<g id=\"edge8\" class=\"edge\"><title>0&#45;&gt;8</title>\r\n",
       "<path fill=\"none\" stroke=\"black\" d=\"M252.466,-445.769C259.803,-435.369 267.782,-424.056 275.239,-413.484\"/>\r\n",
       "<polygon fill=\"black\" stroke=\"black\" points=\"278.181,-415.385 281.085,-405.196 272.461,-411.351 278.181,-415.385\"/>\r\n",
       "<text text-anchor=\"middle\" x=\"285.341\" y=\"-426.131\" font-family=\"Helvetica,sans-Serif\" font-size=\"14.00\">False</text>\r\n",
       "</g>\r\n",
       "<!-- 2 -->\r\n",
       "<g id=\"node3\" class=\"node\"><title>2</title>\r\n",
       "<path fill=\"#399de5\" stroke=\"black\" d=\"M127,-291C127,-291 22,-291 22,-291 16,-291 10,-285 10,-279 10,-279 10,-235 10,-235 10,-229 16,-223 22,-223 22,-223 127,-223 127,-223 133,-223 139,-229 139,-235 139,-235 139,-279 139,-279 139,-285 133,-291 127,-291\"/>\r\n",
       "<text text-anchor=\"start\" x=\"45.5\" y=\"-275.8\" font-family=\"Helvetica,sans-Serif\" font-size=\"14.00\">gini = 0.0</text>\r\n",
       "<text text-anchor=\"start\" x=\"35\" y=\"-260.8\" font-family=\"Helvetica,sans-Serif\" font-size=\"14.00\">samples = 9</text>\r\n",
       "<text text-anchor=\"start\" x=\"34\" y=\"-245.8\" font-family=\"Helvetica,sans-Serif\" font-size=\"14.00\">value = [0, 9]</text>\r\n",
       "<text text-anchor=\"start\" x=\"18\" y=\"-230.8\" font-family=\"Helvetica,sans-Serif\" font-size=\"14.00\">class = Sobrevive</text>\r\n",
       "</g>\r\n",
       "<!-- 1&#45;&gt;2 -->\r\n",
       "<g id=\"edge2\" class=\"edge\"><title>1&#45;&gt;2</title>\r\n",
       "<path fill=\"none\" stroke=\"black\" d=\"M122.582,-331.769C115.87,-321.472 108.575,-310.28 101.744,-299.798\"/>\r\n",
       "<polygon fill=\"black\" stroke=\"black\" points=\"104.53,-297.663 96.1369,-291.196 98.6652,-301.485 104.53,-297.663\"/>\r\n",
       "</g>\r\n",
       "<!-- 3 -->\r\n",
       "<g id=\"node4\" class=\"node\"><title>3</title>\r\n",
       "<path fill=\"#55abe9\" stroke=\"black\" d=\"M274,-296C274,-296 169,-296 169,-296 163,-296 157,-290 157,-284 157,-284 157,-230 157,-230 157,-224 163,-218 169,-218 169,-218 274,-218 274,-218 280,-218 286,-224 286,-230 286,-230 286,-284 286,-284 286,-290 280,-296 274,-296\"/>\r\n",
       "<text text-anchor=\"start\" x=\"191\" y=\"-281.8\" font-family=\"Helvetica,sans-Serif\" font-size=\"14.00\">X</text>\r\n",
       "<text text-anchor=\"start\" x=\"201\" y=\"-281.8\" font-family=\"Helvetica,sans-Serif\" baseline-shift=\"sub\" font-size=\"14.00\">0</text>\r\n",
       "<text text-anchor=\"start\" x=\"208\" y=\"-281.8\" font-family=\"Helvetica,sans-Serif\" font-size=\"14.00\"> ≤ 23.5</text>\r\n",
       "<text text-anchor=\"start\" x=\"184\" y=\"-267.8\" font-family=\"Helvetica,sans-Serif\" font-size=\"14.00\">gini = 0.219</text>\r\n",
       "<text text-anchor=\"start\" x=\"182\" y=\"-253.8\" font-family=\"Helvetica,sans-Serif\" font-size=\"14.00\">samples = 8</text>\r\n",
       "<text text-anchor=\"start\" x=\"181\" y=\"-239.8\" font-family=\"Helvetica,sans-Serif\" font-size=\"14.00\">value = [1, 7]</text>\r\n",
       "<text text-anchor=\"start\" x=\"165\" y=\"-225.8\" font-family=\"Helvetica,sans-Serif\" font-size=\"14.00\">class = Sobrevive</text>\r\n",
       "</g>\r\n",
       "<!-- 1&#45;&gt;3 -->\r\n",
       "<g id=\"edge3\" class=\"edge\"><title>1&#45;&gt;3</title>\r\n",
       "<path fill=\"none\" stroke=\"black\" d=\"M172.76,-331.769C178.534,-323.029 184.735,-313.645 190.712,-304.597\"/>\r\n",
       "<polygon fill=\"black\" stroke=\"black\" points=\"193.762,-306.331 196.354,-296.058 187.921,-302.472 193.762,-306.331\"/>\r\n",
       "</g>\r\n",
       "<!-- 4 -->\r\n",
       "<g id=\"node5\" class=\"node\"><title>4</title>\r\n",
       "<path fill=\"#ffffff\" stroke=\"black\" d=\"M205,-182C205,-182 80,-182 80,-182 74,-182 68,-176 68,-170 68,-170 68,-116 68,-116 68,-110 74,-104 80,-104 80,-104 205,-104 205,-104 211,-104 217,-110 217,-116 217,-116 217,-170 217,-170 217,-176 211,-182 205,-182\"/>\r\n",
       "<text text-anchor=\"start\" x=\"112\" y=\"-167.8\" font-family=\"Helvetica,sans-Serif\" font-size=\"14.00\">X</text>\r\n",
       "<text text-anchor=\"start\" x=\"122\" y=\"-167.8\" font-family=\"Helvetica,sans-Serif\" baseline-shift=\"sub\" font-size=\"14.00\">0</text>\r\n",
       "<text text-anchor=\"start\" x=\"129\" y=\"-167.8\" font-family=\"Helvetica,sans-Serif\" font-size=\"14.00\"> ≤ 17.0</text>\r\n",
       "<text text-anchor=\"start\" x=\"113.5\" y=\"-153.8\" font-family=\"Helvetica,sans-Serif\" font-size=\"14.00\">gini = 0.5</text>\r\n",
       "<text text-anchor=\"start\" x=\"103\" y=\"-139.8\" font-family=\"Helvetica,sans-Serif\" font-size=\"14.00\">samples = 2</text>\r\n",
       "<text text-anchor=\"start\" x=\"102\" y=\"-125.8\" font-family=\"Helvetica,sans-Serif\" font-size=\"14.00\">value = [1, 1]</text>\r\n",
       "<text text-anchor=\"start\" x=\"76\" y=\"-111.8\" font-family=\"Helvetica,sans-Serif\" font-size=\"14.00\">class = No sobrevive</text>\r\n",
       "</g>\r\n",
       "<!-- 3&#45;&gt;4 -->\r\n",
       "<g id=\"edge4\" class=\"edge\"><title>3&#45;&gt;4</title>\r\n",
       "<path fill=\"none\" stroke=\"black\" d=\"M194.534,-217.769C188.305,-208.939 181.613,-199.451 175.171,-190.318\"/>\r\n",
       "<polygon fill=\"black\" stroke=\"black\" points=\"177.969,-188.213 169.345,-182.058 172.249,-192.248 177.969,-188.213\"/>\r\n",
       "</g>\r\n",
       "<!-- 7 -->\r\n",
       "<g id=\"node8\" class=\"node\"><title>7</title>\r\n",
       "<path fill=\"#399de5\" stroke=\"black\" d=\"M352,-177C352,-177 247,-177 247,-177 241,-177 235,-171 235,-165 235,-165 235,-121 235,-121 235,-115 241,-109 247,-109 247,-109 352,-109 352,-109 358,-109 364,-115 364,-121 364,-121 364,-165 364,-165 364,-171 358,-177 352,-177\"/>\r\n",
       "<text text-anchor=\"start\" x=\"270.5\" y=\"-161.8\" font-family=\"Helvetica,sans-Serif\" font-size=\"14.00\">gini = 0.0</text>\r\n",
       "<text text-anchor=\"start\" x=\"260\" y=\"-146.8\" font-family=\"Helvetica,sans-Serif\" font-size=\"14.00\">samples = 6</text>\r\n",
       "<text text-anchor=\"start\" x=\"259\" y=\"-131.8\" font-family=\"Helvetica,sans-Serif\" font-size=\"14.00\">value = [0, 6]</text>\r\n",
       "<text text-anchor=\"start\" x=\"243\" y=\"-116.8\" font-family=\"Helvetica,sans-Serif\" font-size=\"14.00\">class = Sobrevive</text>\r\n",
       "</g>\r\n",
       "<!-- 3&#45;&gt;7 -->\r\n",
       "<g id=\"edge7\" class=\"edge\"><title>3&#45;&gt;7</title>\r\n",
       "<path fill=\"none\" stroke=\"black\" d=\"M248.125,-217.769C255.368,-207.369 263.247,-196.056 270.609,-185.484\"/>\r\n",
       "<polygon fill=\"black\" stroke=\"black\" points=\"273.538,-187.403 276.381,-177.196 267.794,-183.402 273.538,-187.403\"/>\r\n",
       "</g>\r\n",
       "<!-- 5 -->\r\n",
       "<g id=\"node6\" class=\"node\"><title>5</title>\r\n",
       "<path fill=\"#399de5\" stroke=\"black\" d=\"M117,-68C117,-68 12,-68 12,-68 6,-68 0,-62 0,-56 0,-56 0,-12 0,-12 0,-6 6,-0 12,-0 12,-0 117,-0 117,-0 123,-0 129,-6 129,-12 129,-12 129,-56 129,-56 129,-62 123,-68 117,-68\"/>\r\n",
       "<text text-anchor=\"start\" x=\"35.5\" y=\"-52.8\" font-family=\"Helvetica,sans-Serif\" font-size=\"14.00\">gini = 0.0</text>\r\n",
       "<text text-anchor=\"start\" x=\"25\" y=\"-37.8\" font-family=\"Helvetica,sans-Serif\" font-size=\"14.00\">samples = 1</text>\r\n",
       "<text text-anchor=\"start\" x=\"24\" y=\"-22.8\" font-family=\"Helvetica,sans-Serif\" font-size=\"14.00\">value = [0, 1]</text>\r\n",
       "<text text-anchor=\"start\" x=\"8\" y=\"-7.8\" font-family=\"Helvetica,sans-Serif\" font-size=\"14.00\">class = Sobrevive</text>\r\n",
       "</g>\r\n",
       "<!-- 4&#45;&gt;5 -->\r\n",
       "<g id=\"edge5\" class=\"edge\"><title>4&#45;&gt;5</title>\r\n",
       "<path fill=\"none\" stroke=\"black\" d=\"M114.78,-103.975C108.277,-95.0525 101.315,-85.5023 94.708,-76.4392\"/>\r\n",
       "<polygon fill=\"black\" stroke=\"black\" points=\"97.4828,-74.304 88.7638,-68.2849 91.8262,-78.4275 97.4828,-74.304\"/>\r\n",
       "</g>\r\n",
       "<!-- 6 -->\r\n",
       "<g id=\"node7\" class=\"node\"><title>6</title>\r\n",
       "<path fill=\"#e58139\" stroke=\"black\" d=\"M284,-68C284,-68 159,-68 159,-68 153,-68 147,-62 147,-56 147,-56 147,-12 147,-12 147,-6 153,-0 159,-0 159,-0 284,-0 284,-0 290,-0 296,-6 296,-12 296,-12 296,-56 296,-56 296,-62 290,-68 284,-68\"/>\r\n",
       "<text text-anchor=\"start\" x=\"192.5\" y=\"-52.8\" font-family=\"Helvetica,sans-Serif\" font-size=\"14.00\">gini = 0.0</text>\r\n",
       "<text text-anchor=\"start\" x=\"182\" y=\"-37.8\" font-family=\"Helvetica,sans-Serif\" font-size=\"14.00\">samples = 1</text>\r\n",
       "<text text-anchor=\"start\" x=\"181\" y=\"-22.8\" font-family=\"Helvetica,sans-Serif\" font-size=\"14.00\">value = [1, 0]</text>\r\n",
       "<text text-anchor=\"start\" x=\"155\" y=\"-7.8\" font-family=\"Helvetica,sans-Serif\" font-size=\"14.00\">class = No sobrevive</text>\r\n",
       "</g>\r\n",
       "<!-- 4&#45;&gt;6 -->\r\n",
       "<g id=\"edge6\" class=\"edge\"><title>4&#45;&gt;6</title>\r\n",
       "<path fill=\"none\" stroke=\"black\" d=\"M170.575,-103.975C177.162,-95.0525 184.213,-85.5023 190.905,-76.4392\"/>\r\n",
       "<polygon fill=\"black\" stroke=\"black\" points=\"193.801,-78.4087 196.925,-68.2849 188.17,-74.2509 193.801,-78.4087\"/>\r\n",
       "</g>\r\n",
       "</g>\r\n",
       "</svg>\r\n"
      ],
      "text/plain": [
       "<graphviz.files.Source at 0x2004ab2bd08>"
      ]
     },
     "execution_count": 407,
     "metadata": {},
     "output_type": "execute_result"
    }
   ],
   "source": [
    "x = x_test.head(30).values\n",
    "y = y_moda_predicted[0:30]\n",
    "create_graph(x,y)"
   ]
  },
  {
   "cell_type": "markdown",
   "metadata": {},
   "source": [
    "### Predicciones Probabilisticas\n",
    "\n",
    "#### Modelo de Naive Bayes"
   ]
  },
  {
   "cell_type": "code",
   "execution_count": 412,
   "metadata": {},
   "outputs": [
    {
     "data": {
      "text/html": [
       "<div>\n",
       "<style scoped>\n",
       "    .dataframe tbody tr th:only-of-type {\n",
       "        vertical-align: middle;\n",
       "    }\n",
       "\n",
       "    .dataframe tbody tr th {\n",
       "        vertical-align: top;\n",
       "    }\n",
       "\n",
       "    .dataframe thead th {\n",
       "        text-align: right;\n",
       "    }\n",
       "</style>\n",
       "<table border=\"1\" class=\"dataframe\">\n",
       "  <thead>\n",
       "    <tr style=\"text-align: right;\">\n",
       "      <th></th>\n",
       "      <th>Fare</th>\n",
       "      <th>passenger_sex_codes</th>\n",
       "      <th>passenger_class_codes</th>\n",
       "    </tr>\n",
       "  </thead>\n",
       "  <tbody>\n",
       "    <tr>\n",
       "      <td>0</td>\n",
       "      <td>23.304731</td>\n",
       "      <td>0.828479</td>\n",
       "      <td>0.488673</td>\n",
       "    </tr>\n",
       "    <tr>\n",
       "      <td>1</td>\n",
       "      <td>49.328107</td>\n",
       "      <td>0.354497</td>\n",
       "      <td>1.037037</td>\n",
       "    </tr>\n",
       "  </tbody>\n",
       "</table>\n",
       "</div>"
      ],
      "text/plain": [
       "        Fare  passenger_sex_codes  passenger_class_codes\n",
       "0  23.304731             0.828479               0.488673\n",
       "1  49.328107             0.354497               1.037037"
      ]
     },
     "execution_count": 412,
     "metadata": {},
     "output_type": "execute_result"
    }
   ],
   "source": [
    "bayes_model[\"mean\"]"
   ]
  },
  {
   "cell_type": "code",
   "execution_count": 413,
   "metadata": {},
   "outputs": [
    {
     "data": {
      "text/html": [
       "<div>\n",
       "<style scoped>\n",
       "    .dataframe tbody tr th:only-of-type {\n",
       "        vertical-align: middle;\n",
       "    }\n",
       "\n",
       "    .dataframe tbody tr th {\n",
       "        vertical-align: top;\n",
       "    }\n",
       "\n",
       "    .dataframe thead th {\n",
       "        text-align: right;\n",
       "    }\n",
       "</style>\n",
       "<table border=\"1\" class=\"dataframe\">\n",
       "  <thead>\n",
       "    <tr style=\"text-align: right;\">\n",
       "      <th></th>\n",
       "      <th>Fare</th>\n",
       "      <th>passenger_sex_codes</th>\n",
       "      <th>passenger_class_codes</th>\n",
       "    </tr>\n",
       "  </thead>\n",
       "  <tbody>\n",
       "    <tr>\n",
       "      <td>0</td>\n",
       "      <td>36.282155</td>\n",
       "      <td>0.376964</td>\n",
       "      <td>0.757295</td>\n",
       "    </tr>\n",
       "    <tr>\n",
       "      <td>1</td>\n",
       "      <td>68.091695</td>\n",
       "      <td>0.478361</td>\n",
       "      <td>0.875114</td>\n",
       "    </tr>\n",
       "  </tbody>\n",
       "</table>\n",
       "</div>"
      ],
      "text/plain": [
       "        Fare  passenger_sex_codes  passenger_class_codes\n",
       "0  36.282155             0.376964               0.757295\n",
       "1  68.091695             0.478361               0.875114"
      ]
     },
     "execution_count": 413,
     "metadata": {},
     "output_type": "execute_result"
    }
   ],
   "source": [
    "bayes_model[\"stdev\"]"
   ]
  },
  {
   "cell_type": "code",
   "execution_count": 414,
   "metadata": {},
   "outputs": [
    {
     "data": {
      "text/html": [
       "<div>\n",
       "<style scoped>\n",
       "    .dataframe tbody tr th:only-of-type {\n",
       "        vertical-align: middle;\n",
       "    }\n",
       "\n",
       "    .dataframe tbody tr th {\n",
       "        vertical-align: top;\n",
       "    }\n",
       "\n",
       "    .dataframe thead th {\n",
       "        text-align: right;\n",
       "    }\n",
       "</style>\n",
       "<table border=\"1\" class=\"dataframe\">\n",
       "  <thead>\n",
       "    <tr style=\"text-align: right;\">\n",
       "      <th></th>\n",
       "      <th>probabilities</th>\n",
       "    </tr>\n",
       "  </thead>\n",
       "  <tbody>\n",
       "    <tr>\n",
       "      <td>0</td>\n",
       "      <td>0.620482</td>\n",
       "    </tr>\n",
       "    <tr>\n",
       "      <td>1</td>\n",
       "      <td>0.379518</td>\n",
       "    </tr>\n",
       "  </tbody>\n",
       "</table>\n",
       "</div>"
      ],
      "text/plain": [
       "   probabilities\n",
       "0       0.620482\n",
       "1       0.379518"
      ]
     },
     "execution_count": 414,
     "metadata": {},
     "output_type": "execute_result"
    }
   ],
   "source": [
    "bayes_model[\"probabilities\"]"
   ]
  }
 ],
 "metadata": {
  "kernelspec": {
   "display_name": "Python 3",
   "language": "python",
   "name": "python3"
  },
  "language_info": {
   "codemirror_mode": {
    "name": "ipython",
    "version": 3
   },
   "file_extension": ".py",
   "mimetype": "text/x-python",
   "name": "python",
   "nbconvert_exporter": "python",
   "pygments_lexer": "ipython3",
   "version": "3.7.4"
  }
 },
 "nbformat": 4,
 "nbformat_minor": 4
}
